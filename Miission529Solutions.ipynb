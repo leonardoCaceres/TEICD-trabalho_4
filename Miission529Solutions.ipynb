{
  "cells": [
    {
      "cell_type": "code",
      "source": [
        ""
      ],
      "metadata": {
        "id": "n_VPrE58iJYL"
      },
      "execution_count": null,
      "outputs": []
    },
    {
      "cell_type": "markdown",
      "metadata": {
        "id": "FCAVgdAub7ck"
      },
      "source": [
        "# Guided Project: Storytelling Data Visualization on Exchange Rates\n",
        "## Introducing the Dataset"
      ]
    },
    {
      "cell_type": "code",
      "execution_count": 2,
      "metadata": {
        "colab": {
          "base_uri": "https://localhost:8080/",
          "height": 206
        },
        "id": "f-R3YOMib7cm",
        "outputId": "11d19871-e89c-4137-da91-376c7bc655af"
      },
      "outputs": [
        {
          "output_type": "execute_result",
          "data": {
            "text/plain": [
              "   Periodo:  Total  Homens  Mulheres\n",
              "0      2004   11.5    11.7      11.2\n",
              "1      2005   11.1    11.4      10.9\n",
              "2      2006   10.5    10.8      10.2\n",
              "3      2007   10.1    10.4       9.9\n",
              "4      2008   10.0    10.2       9.8"
            ],
            "text/html": [
              "\n",
              "  <div id=\"df-90c5a8ab-1cf2-4887-9b4e-dad398d4418a\">\n",
              "    <div class=\"colab-df-container\">\n",
              "      <div>\n",
              "<style scoped>\n",
              "    .dataframe tbody tr th:only-of-type {\n",
              "        vertical-align: middle;\n",
              "    }\n",
              "\n",
              "    .dataframe tbody tr th {\n",
              "        vertical-align: top;\n",
              "    }\n",
              "\n",
              "    .dataframe thead th {\n",
              "        text-align: right;\n",
              "    }\n",
              "</style>\n",
              "<table border=\"1\" class=\"dataframe\">\n",
              "  <thead>\n",
              "    <tr style=\"text-align: right;\">\n",
              "      <th></th>\n",
              "      <th>Periodo:</th>\n",
              "      <th>Total</th>\n",
              "      <th>Homens</th>\n",
              "      <th>Mulheres</th>\n",
              "    </tr>\n",
              "  </thead>\n",
              "  <tbody>\n",
              "    <tr>\n",
              "      <th>0</th>\n",
              "      <td>2004</td>\n",
              "      <td>11.5</td>\n",
              "      <td>11.7</td>\n",
              "      <td>11.2</td>\n",
              "    </tr>\n",
              "    <tr>\n",
              "      <th>1</th>\n",
              "      <td>2005</td>\n",
              "      <td>11.1</td>\n",
              "      <td>11.4</td>\n",
              "      <td>10.9</td>\n",
              "    </tr>\n",
              "    <tr>\n",
              "      <th>2</th>\n",
              "      <td>2006</td>\n",
              "      <td>10.5</td>\n",
              "      <td>10.8</td>\n",
              "      <td>10.2</td>\n",
              "    </tr>\n",
              "    <tr>\n",
              "      <th>3</th>\n",
              "      <td>2007</td>\n",
              "      <td>10.1</td>\n",
              "      <td>10.4</td>\n",
              "      <td>9.9</td>\n",
              "    </tr>\n",
              "    <tr>\n",
              "      <th>4</th>\n",
              "      <td>2008</td>\n",
              "      <td>10.0</td>\n",
              "      <td>10.2</td>\n",
              "      <td>9.8</td>\n",
              "    </tr>\n",
              "  </tbody>\n",
              "</table>\n",
              "</div>\n",
              "      <button class=\"colab-df-convert\" onclick=\"convertToInteractive('df-90c5a8ab-1cf2-4887-9b4e-dad398d4418a')\"\n",
              "              title=\"Convert this dataframe to an interactive table.\"\n",
              "              style=\"display:none;\">\n",
              "        \n",
              "  <svg xmlns=\"http://www.w3.org/2000/svg\" height=\"24px\"viewBox=\"0 0 24 24\"\n",
              "       width=\"24px\">\n",
              "    <path d=\"M0 0h24v24H0V0z\" fill=\"none\"/>\n",
              "    <path d=\"M18.56 5.44l.94 2.06.94-2.06 2.06-.94-2.06-.94-.94-2.06-.94 2.06-2.06.94zm-11 1L8.5 8.5l.94-2.06 2.06-.94-2.06-.94L8.5 2.5l-.94 2.06-2.06.94zm10 10l.94 2.06.94-2.06 2.06-.94-2.06-.94-.94-2.06-.94 2.06-2.06.94z\"/><path d=\"M17.41 7.96l-1.37-1.37c-.4-.4-.92-.59-1.43-.59-.52 0-1.04.2-1.43.59L10.3 9.45l-7.72 7.72c-.78.78-.78 2.05 0 2.83L4 21.41c.39.39.9.59 1.41.59.51 0 1.02-.2 1.41-.59l7.78-7.78 2.81-2.81c.8-.78.8-2.07 0-2.86zM5.41 20L4 18.59l7.72-7.72 1.47 1.35L5.41 20z\"/>\n",
              "  </svg>\n",
              "      </button>\n",
              "      \n",
              "  <style>\n",
              "    .colab-df-container {\n",
              "      display:flex;\n",
              "      flex-wrap:wrap;\n",
              "      gap: 12px;\n",
              "    }\n",
              "\n",
              "    .colab-df-convert {\n",
              "      background-color: #E8F0FE;\n",
              "      border: none;\n",
              "      border-radius: 50%;\n",
              "      cursor: pointer;\n",
              "      display: none;\n",
              "      fill: #1967D2;\n",
              "      height: 32px;\n",
              "      padding: 0 0 0 0;\n",
              "      width: 32px;\n",
              "    }\n",
              "\n",
              "    .colab-df-convert:hover {\n",
              "      background-color: #E2EBFA;\n",
              "      box-shadow: 0px 1px 2px rgba(60, 64, 67, 0.3), 0px 1px 3px 1px rgba(60, 64, 67, 0.15);\n",
              "      fill: #174EA6;\n",
              "    }\n",
              "\n",
              "    [theme=dark] .colab-df-convert {\n",
              "      background-color: #3B4455;\n",
              "      fill: #D2E3FC;\n",
              "    }\n",
              "\n",
              "    [theme=dark] .colab-df-convert:hover {\n",
              "      background-color: #434B5C;\n",
              "      box-shadow: 0px 1px 3px 1px rgba(0, 0, 0, 0.15);\n",
              "      filter: drop-shadow(0px 1px 2px rgba(0, 0, 0, 0.3));\n",
              "      fill: #FFFFFF;\n",
              "    }\n",
              "  </style>\n",
              "\n",
              "      <script>\n",
              "        const buttonEl =\n",
              "          document.querySelector('#df-90c5a8ab-1cf2-4887-9b4e-dad398d4418a button.colab-df-convert');\n",
              "        buttonEl.style.display =\n",
              "          google.colab.kernel.accessAllowed ? 'block' : 'none';\n",
              "\n",
              "        async function convertToInteractive(key) {\n",
              "          const element = document.querySelector('#df-90c5a8ab-1cf2-4887-9b4e-dad398d4418a');\n",
              "          const dataTable =\n",
              "            await google.colab.kernel.invokeFunction('convertToInteractive',\n",
              "                                                     [key], {});\n",
              "          if (!dataTable) return;\n",
              "\n",
              "          const docLinkHtml = 'Like what you see? Visit the ' +\n",
              "            '<a target=\"_blank\" href=https://colab.research.google.com/notebooks/data_table.ipynb>data table notebook</a>'\n",
              "            + ' to learn more about interactive tables.';\n",
              "          element.innerHTML = '';\n",
              "          dataTable['output_type'] = 'display_data';\n",
              "          await google.colab.output.renderOutput(dataTable, element);\n",
              "          const docLink = document.createElement('div');\n",
              "          docLink.innerHTML = docLinkHtml;\n",
              "          element.appendChild(docLink);\n",
              "        }\n",
              "      </script>\n",
              "    </div>\n",
              "  </div>\n",
              "  "
            ]
          },
          "metadata": {},
          "execution_count": 2
        }
      ],
      "source": [
        "import pandas as pd\n",
        "\n",
        "exchange_rates = pd.read_csv('entrada.csv')\n",
        "exchange_rates.head()"
      ]
    },
    {
      "cell_type": "code",
      "source": [
        "from google.colab import drive\n",
        "drive.mount('/content/drive')"
      ],
      "metadata": {
        "colab": {
          "base_uri": "https://localhost:8080/"
        },
        "id": "8KD2nO9TlBRm",
        "outputId": "bf07b1e1-86cf-4a81-ed95-032781785789"
      },
      "execution_count": 3,
      "outputs": [
        {
          "output_type": "stream",
          "name": "stdout",
          "text": [
            "Mounted at /content/drive\n"
          ]
        }
      ]
    },
    {
      "cell_type": "code",
      "execution_count": 4,
      "metadata": {
        "id": "xKsyJF4-b7cp",
        "outputId": "81b4f0b7-933a-430f-a468-99bdbfa9680a",
        "colab": {
          "base_uri": "https://localhost:8080/",
          "height": 206
        }
      },
      "outputs": [
        {
          "output_type": "execute_result",
          "data": {
            "text/plain": [
              "    Periodo:  Total  Homens  Mulheres\n",
              "11      2015    8.0     8.3       7.7\n",
              "12      2016    7.2     7.4       7.0\n",
              "13      2017    6.9     7.1       6.8\n",
              "14      2018    6.8     7.0       6.6\n",
              "15      2019    6.6     6.9       6.3"
            ],
            "text/html": [
              "\n",
              "  <div id=\"df-8adb633e-d77d-46cf-8a09-4b99175e9f1b\">\n",
              "    <div class=\"colab-df-container\">\n",
              "      <div>\n",
              "<style scoped>\n",
              "    .dataframe tbody tr th:only-of-type {\n",
              "        vertical-align: middle;\n",
              "    }\n",
              "\n",
              "    .dataframe tbody tr th {\n",
              "        vertical-align: top;\n",
              "    }\n",
              "\n",
              "    .dataframe thead th {\n",
              "        text-align: right;\n",
              "    }\n",
              "</style>\n",
              "<table border=\"1\" class=\"dataframe\">\n",
              "  <thead>\n",
              "    <tr style=\"text-align: right;\">\n",
              "      <th></th>\n",
              "      <th>Periodo:</th>\n",
              "      <th>Total</th>\n",
              "      <th>Homens</th>\n",
              "      <th>Mulheres</th>\n",
              "    </tr>\n",
              "  </thead>\n",
              "  <tbody>\n",
              "    <tr>\n",
              "      <th>11</th>\n",
              "      <td>2015</td>\n",
              "      <td>8.0</td>\n",
              "      <td>8.3</td>\n",
              "      <td>7.7</td>\n",
              "    </tr>\n",
              "    <tr>\n",
              "      <th>12</th>\n",
              "      <td>2016</td>\n",
              "      <td>7.2</td>\n",
              "      <td>7.4</td>\n",
              "      <td>7.0</td>\n",
              "    </tr>\n",
              "    <tr>\n",
              "      <th>13</th>\n",
              "      <td>2017</td>\n",
              "      <td>6.9</td>\n",
              "      <td>7.1</td>\n",
              "      <td>6.8</td>\n",
              "    </tr>\n",
              "    <tr>\n",
              "      <th>14</th>\n",
              "      <td>2018</td>\n",
              "      <td>6.8</td>\n",
              "      <td>7.0</td>\n",
              "      <td>6.6</td>\n",
              "    </tr>\n",
              "    <tr>\n",
              "      <th>15</th>\n",
              "      <td>2019</td>\n",
              "      <td>6.6</td>\n",
              "      <td>6.9</td>\n",
              "      <td>6.3</td>\n",
              "    </tr>\n",
              "  </tbody>\n",
              "</table>\n",
              "</div>\n",
              "      <button class=\"colab-df-convert\" onclick=\"convertToInteractive('df-8adb633e-d77d-46cf-8a09-4b99175e9f1b')\"\n",
              "              title=\"Convert this dataframe to an interactive table.\"\n",
              "              style=\"display:none;\">\n",
              "        \n",
              "  <svg xmlns=\"http://www.w3.org/2000/svg\" height=\"24px\"viewBox=\"0 0 24 24\"\n",
              "       width=\"24px\">\n",
              "    <path d=\"M0 0h24v24H0V0z\" fill=\"none\"/>\n",
              "    <path d=\"M18.56 5.44l.94 2.06.94-2.06 2.06-.94-2.06-.94-.94-2.06-.94 2.06-2.06.94zm-11 1L8.5 8.5l.94-2.06 2.06-.94-2.06-.94L8.5 2.5l-.94 2.06-2.06.94zm10 10l.94 2.06.94-2.06 2.06-.94-2.06-.94-.94-2.06-.94 2.06-2.06.94z\"/><path d=\"M17.41 7.96l-1.37-1.37c-.4-.4-.92-.59-1.43-.59-.52 0-1.04.2-1.43.59L10.3 9.45l-7.72 7.72c-.78.78-.78 2.05 0 2.83L4 21.41c.39.39.9.59 1.41.59.51 0 1.02-.2 1.41-.59l7.78-7.78 2.81-2.81c.8-.78.8-2.07 0-2.86zM5.41 20L4 18.59l7.72-7.72 1.47 1.35L5.41 20z\"/>\n",
              "  </svg>\n",
              "      </button>\n",
              "      \n",
              "  <style>\n",
              "    .colab-df-container {\n",
              "      display:flex;\n",
              "      flex-wrap:wrap;\n",
              "      gap: 12px;\n",
              "    }\n",
              "\n",
              "    .colab-df-convert {\n",
              "      background-color: #E8F0FE;\n",
              "      border: none;\n",
              "      border-radius: 50%;\n",
              "      cursor: pointer;\n",
              "      display: none;\n",
              "      fill: #1967D2;\n",
              "      height: 32px;\n",
              "      padding: 0 0 0 0;\n",
              "      width: 32px;\n",
              "    }\n",
              "\n",
              "    .colab-df-convert:hover {\n",
              "      background-color: #E2EBFA;\n",
              "      box-shadow: 0px 1px 2px rgba(60, 64, 67, 0.3), 0px 1px 3px 1px rgba(60, 64, 67, 0.15);\n",
              "      fill: #174EA6;\n",
              "    }\n",
              "\n",
              "    [theme=dark] .colab-df-convert {\n",
              "      background-color: #3B4455;\n",
              "      fill: #D2E3FC;\n",
              "    }\n",
              "\n",
              "    [theme=dark] .colab-df-convert:hover {\n",
              "      background-color: #434B5C;\n",
              "      box-shadow: 0px 1px 3px 1px rgba(0, 0, 0, 0.15);\n",
              "      filter: drop-shadow(0px 1px 2px rgba(0, 0, 0, 0.3));\n",
              "      fill: #FFFFFF;\n",
              "    }\n",
              "  </style>\n",
              "\n",
              "      <script>\n",
              "        const buttonEl =\n",
              "          document.querySelector('#df-8adb633e-d77d-46cf-8a09-4b99175e9f1b button.colab-df-convert');\n",
              "        buttonEl.style.display =\n",
              "          google.colab.kernel.accessAllowed ? 'block' : 'none';\n",
              "\n",
              "        async function convertToInteractive(key) {\n",
              "          const element = document.querySelector('#df-8adb633e-d77d-46cf-8a09-4b99175e9f1b');\n",
              "          const dataTable =\n",
              "            await google.colab.kernel.invokeFunction('convertToInteractive',\n",
              "                                                     [key], {});\n",
              "          if (!dataTable) return;\n",
              "\n",
              "          const docLinkHtml = 'Like what you see? Visit the ' +\n",
              "            '<a target=\"_blank\" href=https://colab.research.google.com/notebooks/data_table.ipynb>data table notebook</a>'\n",
              "            + ' to learn more about interactive tables.';\n",
              "          element.innerHTML = '';\n",
              "          dataTable['output_type'] = 'display_data';\n",
              "          await google.colab.output.renderOutput(dataTable, element);\n",
              "          const docLink = document.createElement('div');\n",
              "          docLink.innerHTML = docLinkHtml;\n",
              "          element.appendChild(docLink);\n",
              "        }\n",
              "      </script>\n",
              "    </div>\n",
              "  </div>\n",
              "  "
            ]
          },
          "metadata": {},
          "execution_count": 4
        }
      ],
      "source": [
        "exchange_rates.tail()"
      ]
    },
    {
      "cell_type": "code",
      "execution_count": 5,
      "metadata": {
        "id": "3c36vTAXb7cq",
        "outputId": "1cd9acd2-a0d9-42cc-f95b-d0816d5432a6",
        "colab": {
          "base_uri": "https://localhost:8080/"
        }
      },
      "outputs": [
        {
          "output_type": "stream",
          "name": "stdout",
          "text": [
            "<class 'pandas.core.frame.DataFrame'>\n",
            "RangeIndex: 16 entries, 0 to 15\n",
            "Data columns (total 4 columns):\n",
            " #   Column    Non-Null Count  Dtype  \n",
            "---  ------    --------------  -----  \n",
            " 0   Periodo:  16 non-null     int64  \n",
            " 1   Total     16 non-null     float64\n",
            " 2   Homens    16 non-null     float64\n",
            " 3   Mulheres  16 non-null     float64\n",
            "dtypes: float64(3), int64(1)\n",
            "memory usage: 640.0 bytes\n"
          ]
        }
      ],
      "source": [
        "exchange_rates.info()"
      ]
    },
    {
      "cell_type": "markdown",
      "metadata": {
        "id": "GJ4hwCaab7cr"
      },
      "source": [
        "## Data Cleaning"
      ]
    },
    {
      "cell_type": "code",
      "execution_count": 6,
      "metadata": {
        "id": "Leky1gSgb7cs",
        "outputId": "44355f7b-6c53-4a3b-cd9f-0aad35ec6baa",
        "colab": {
          "base_uri": "https://localhost:8080/",
          "height": 206
        }
      },
      "outputs": [
        {
          "output_type": "execute_result",
          "data": {
            "text/plain": [
              "    Periodo:  Total  Homem  Mulher\n",
              "0 2004-01-01   11.5   11.7    11.2\n",
              "1 2005-01-01   11.1   11.4    10.9\n",
              "2 2006-01-01   10.5   10.8    10.2\n",
              "3 2007-01-01   10.1   10.4     9.9\n",
              "4 2008-01-01   10.0   10.2     9.8"
            ],
            "text/html": [
              "\n",
              "  <div id=\"df-2d402061-568f-4a92-8c97-c952aaa35ac5\">\n",
              "    <div class=\"colab-df-container\">\n",
              "      <div>\n",
              "<style scoped>\n",
              "    .dataframe tbody tr th:only-of-type {\n",
              "        vertical-align: middle;\n",
              "    }\n",
              "\n",
              "    .dataframe tbody tr th {\n",
              "        vertical-align: top;\n",
              "    }\n",
              "\n",
              "    .dataframe thead th {\n",
              "        text-align: right;\n",
              "    }\n",
              "</style>\n",
              "<table border=\"1\" class=\"dataframe\">\n",
              "  <thead>\n",
              "    <tr style=\"text-align: right;\">\n",
              "      <th></th>\n",
              "      <th>Periodo:</th>\n",
              "      <th>Total</th>\n",
              "      <th>Homem</th>\n",
              "      <th>Mulher</th>\n",
              "    </tr>\n",
              "  </thead>\n",
              "  <tbody>\n",
              "    <tr>\n",
              "      <th>0</th>\n",
              "      <td>2004-01-01</td>\n",
              "      <td>11.5</td>\n",
              "      <td>11.7</td>\n",
              "      <td>11.2</td>\n",
              "    </tr>\n",
              "    <tr>\n",
              "      <th>1</th>\n",
              "      <td>2005-01-01</td>\n",
              "      <td>11.1</td>\n",
              "      <td>11.4</td>\n",
              "      <td>10.9</td>\n",
              "    </tr>\n",
              "    <tr>\n",
              "      <th>2</th>\n",
              "      <td>2006-01-01</td>\n",
              "      <td>10.5</td>\n",
              "      <td>10.8</td>\n",
              "      <td>10.2</td>\n",
              "    </tr>\n",
              "    <tr>\n",
              "      <th>3</th>\n",
              "      <td>2007-01-01</td>\n",
              "      <td>10.1</td>\n",
              "      <td>10.4</td>\n",
              "      <td>9.9</td>\n",
              "    </tr>\n",
              "    <tr>\n",
              "      <th>4</th>\n",
              "      <td>2008-01-01</td>\n",
              "      <td>10.0</td>\n",
              "      <td>10.2</td>\n",
              "      <td>9.8</td>\n",
              "    </tr>\n",
              "  </tbody>\n",
              "</table>\n",
              "</div>\n",
              "      <button class=\"colab-df-convert\" onclick=\"convertToInteractive('df-2d402061-568f-4a92-8c97-c952aaa35ac5')\"\n",
              "              title=\"Convert this dataframe to an interactive table.\"\n",
              "              style=\"display:none;\">\n",
              "        \n",
              "  <svg xmlns=\"http://www.w3.org/2000/svg\" height=\"24px\"viewBox=\"0 0 24 24\"\n",
              "       width=\"24px\">\n",
              "    <path d=\"M0 0h24v24H0V0z\" fill=\"none\"/>\n",
              "    <path d=\"M18.56 5.44l.94 2.06.94-2.06 2.06-.94-2.06-.94-.94-2.06-.94 2.06-2.06.94zm-11 1L8.5 8.5l.94-2.06 2.06-.94-2.06-.94L8.5 2.5l-.94 2.06-2.06.94zm10 10l.94 2.06.94-2.06 2.06-.94-2.06-.94-.94-2.06-.94 2.06-2.06.94z\"/><path d=\"M17.41 7.96l-1.37-1.37c-.4-.4-.92-.59-1.43-.59-.52 0-1.04.2-1.43.59L10.3 9.45l-7.72 7.72c-.78.78-.78 2.05 0 2.83L4 21.41c.39.39.9.59 1.41.59.51 0 1.02-.2 1.41-.59l7.78-7.78 2.81-2.81c.8-.78.8-2.07 0-2.86zM5.41 20L4 18.59l7.72-7.72 1.47 1.35L5.41 20z\"/>\n",
              "  </svg>\n",
              "      </button>\n",
              "      \n",
              "  <style>\n",
              "    .colab-df-container {\n",
              "      display:flex;\n",
              "      flex-wrap:wrap;\n",
              "      gap: 12px;\n",
              "    }\n",
              "\n",
              "    .colab-df-convert {\n",
              "      background-color: #E8F0FE;\n",
              "      border: none;\n",
              "      border-radius: 50%;\n",
              "      cursor: pointer;\n",
              "      display: none;\n",
              "      fill: #1967D2;\n",
              "      height: 32px;\n",
              "      padding: 0 0 0 0;\n",
              "      width: 32px;\n",
              "    }\n",
              "\n",
              "    .colab-df-convert:hover {\n",
              "      background-color: #E2EBFA;\n",
              "      box-shadow: 0px 1px 2px rgba(60, 64, 67, 0.3), 0px 1px 3px 1px rgba(60, 64, 67, 0.15);\n",
              "      fill: #174EA6;\n",
              "    }\n",
              "\n",
              "    [theme=dark] .colab-df-convert {\n",
              "      background-color: #3B4455;\n",
              "      fill: #D2E3FC;\n",
              "    }\n",
              "\n",
              "    [theme=dark] .colab-df-convert:hover {\n",
              "      background-color: #434B5C;\n",
              "      box-shadow: 0px 1px 3px 1px rgba(0, 0, 0, 0.15);\n",
              "      filter: drop-shadow(0px 1px 2px rgba(0, 0, 0, 0.3));\n",
              "      fill: #FFFFFF;\n",
              "    }\n",
              "  </style>\n",
              "\n",
              "      <script>\n",
              "        const buttonEl =\n",
              "          document.querySelector('#df-2d402061-568f-4a92-8c97-c952aaa35ac5 button.colab-df-convert');\n",
              "        buttonEl.style.display =\n",
              "          google.colab.kernel.accessAllowed ? 'block' : 'none';\n",
              "\n",
              "        async function convertToInteractive(key) {\n",
              "          const element = document.querySelector('#df-2d402061-568f-4a92-8c97-c952aaa35ac5');\n",
              "          const dataTable =\n",
              "            await google.colab.kernel.invokeFunction('convertToInteractive',\n",
              "                                                     [key], {});\n",
              "          if (!dataTable) return;\n",
              "\n",
              "          const docLinkHtml = 'Like what you see? Visit the ' +\n",
              "            '<a target=\"_blank\" href=https://colab.research.google.com/notebooks/data_table.ipynb>data table notebook</a>'\n",
              "            + ' to learn more about interactive tables.';\n",
              "          element.innerHTML = '';\n",
              "          dataTable['output_type'] = 'display_data';\n",
              "          await google.colab.output.renderOutput(dataTable, element);\n",
              "          const docLink = document.createElement('div');\n",
              "          docLink.innerHTML = docLinkHtml;\n",
              "          element.appendChild(docLink);\n",
              "        }\n",
              "      </script>\n",
              "    </div>\n",
              "  </div>\n",
              "  "
            ]
          },
          "metadata": {},
          "execution_count": 6
        }
      ],
      "source": [
        "exchange_rates.rename(columns={'Homens': 'Homem','Mulheres': 'Mulher'},inplace=True)\n",
        "exchange_rates['Periodo:'] = pd.to_datetime(exchange_rates['Periodo:'], format=\"%Y\")\n",
        "exchange_rates.sort_values('Periodo:', inplace=True)\n",
        "exchange_rates.reset_index(drop=True, inplace=True)\n",
        "exchange_rates.head()"
      ]
    },
    {
      "cell_type": "code",
      "source": [
        "exchange_rates.rename(columns={'Homem': 'Homens','Mulher': 'Mulheres'},inplace=True) #VOLTANDO"
      ],
      "metadata": {
        "id": "95EsGeW7choC"
      },
      "execution_count": 7,
      "outputs": []
    },
    {
      "cell_type": "code",
      "execution_count": 8,
      "metadata": {
        "id": "DI3QURrKb7ct",
        "outputId": "12b6b788-668a-41be-bcbe-9f7e0283e3df",
        "colab": {
          "base_uri": "https://localhost:8080/"
        }
      },
      "outputs": [
        {
          "output_type": "execute_result",
          "data": {
            "text/plain": [
              "8.8     2\n",
              "11.7    1\n",
              "11.4    1\n",
              "10.8    1\n",
              "10.4    1\n",
              "10.2    1\n",
              "9.9     1\n",
              "9.8     1\n",
              "9.0     1\n",
              "8.6     1\n",
              "8.3     1\n",
              "7.4     1\n",
              "7.1     1\n",
              "7.0     1\n",
              "6.9     1\n",
              "Name: Homens, dtype: int64"
            ]
          },
          "metadata": {},
          "execution_count": 8
        }
      ],
      "source": [
        "ahem = exchange_rates[['Periodo:', 'Total', 'Homens', 'Mulheres']].copy()\n",
        "ahem['Homens'].value_counts() # 62 '-' characters"
      ]
    },
    {
      "cell_type": "code",
      "execution_count": 9,
      "metadata": {
        "id": "kzjy7PyCb7cu",
        "outputId": "246c83d9-4241-40bf-a729-0e0027c26799",
        "colab": {
          "base_uri": "https://localhost:8080/"
        }
      },
      "outputs": [
        {
          "output_type": "stream",
          "name": "stdout",
          "text": [
            "<class 'pandas.core.frame.DataFrame'>\n",
            "Int64Index: 16 entries, 0 to 15\n",
            "Data columns (total 4 columns):\n",
            " #   Column    Non-Null Count  Dtype         \n",
            "---  ------    --------------  -----         \n",
            " 0   Periodo:  16 non-null     datetime64[ns]\n",
            " 1   Total     16 non-null     float64       \n",
            " 2   Homens    16 non-null     float64       \n",
            " 3   Mulheres  16 non-null     float64       \n",
            "dtypes: datetime64[ns](1), float64(3)\n",
            "memory usage: 640.0 bytes\n"
          ]
        }
      ],
      "source": [
        "ahem = ahem[ahem['Homens'] != '-']\n",
        "ahem['Homens'] = ahem['Homens'].astype(float)\n",
        "ahem.info()"
      ]
    },
    {
      "cell_type": "markdown",
      "metadata": {
        "id": "rSARVuXfb7cu"
      },
      "source": [
        "## Rolling Mean"
      ]
    },
    {
      "cell_type": "code",
      "execution_count": 10,
      "metadata": {
        "id": "gH4xeA-Rb7cx",
        "outputId": "e69ed468-7b06-4346-9d11-6ee699c3135b",
        "colab": {
          "base_uri": "https://localhost:8080/",
          "height": 265
        }
      },
      "outputs": [
        {
          "output_type": "display_data",
          "data": {
            "text/plain": [
              "<Figure size 432x288 with 1 Axes>"
            ],
            "image/png": "[encoded data removed]"
          },
          "metadata": {
            "needs_background": "light"
          }
        }
      ],
      "source": [
        "import matplotlib.pyplot as plt\n",
        "%matplotlib inline\n",
        "\n",
        "plt.plot(ahem['Periodo:'], ahem['Homens'])\n",
        "plt.show()"
      ]
    },
    {
      "cell_type": "code",
      "source": [
        "import matplotlib.pyplot as plt\n",
        "%matplotlib inline\n",
        "\n",
        "plt.plot(ahem['Periodo:'], ahem['Mulheres'])\n",
        "plt.show()"
      ],
      "metadata": {
        "colab": {
          "base_uri": "https://localhost:8080/",
          "height": 265
        },
        "id": "yI06zAdrbmB2",
        "outputId": "652a8cec-6bf7-4d77-8ac7-5a1afeb12600"
      },
      "execution_count": 11,
      "outputs": [
        {
          "output_type": "display_data",
          "data": {
            "text/plain": [
              "<Figure size 432x288 with 1 Axes>"
            ],
            "image/png": "[encoded data removed]"
          },
          "metadata": {
            "needs_background": "light"
          }
        }
      ]
    },
    {
      "cell_type": "code",
      "execution_count": 12,
      "metadata": {
        "id": "-60LHw13b7cx",
        "colab": {
          "base_uri": "https://localhost:8080/",
          "height": 177
        },
        "outputId": "83df1d25-7952-4901-a67a-7924259a0c0f"
      },
      "outputs": [
        {
          "output_type": "display_data",
          "data": {
            "text/plain": [
              "<Figure size 648x432 with 2 Axes>"
            ],
            "image/png": "[encoded data removed]"
          },
          "metadata": {
            "needs_background": "light"
          }
        }
      ],
      "source": [
        "plt.figure(figsize=(9,6))\n",
        "\n",
        "plt.subplot(3,2,1)\n",
        "plt.plot(ahem['Periodo:'], ahem['Homens'])\n",
        "plt.title('Original values', weight='bold')\n",
        "\n",
        "for i, rolling_mean in zip([2, 3, 4, 5, 6],\n",
        "                           [7]):\n",
        "    plt.subplot(3,2,i)\n",
        "    plt.plot(ahem['Periodo:'],\n",
        "             ahem['Homens'].rolling(rolling_mean).mean())\n",
        "    plt.title('Rolling Window:' + str(rolling_mean), weight='bold')\n",
        "    \n",
        "plt.tight_layout() # Auto-adjusts the padding between subplots\n",
        "plt.show()"
      ]
    },
    {
      "cell_type": "code",
      "source": [
        "ahem['rolling_mean'] = ahem['Total'].rolling(1).mean()\n",
        "\n",
        "ahem"
      ],
      "metadata": {
        "colab": {
          "base_uri": "https://localhost:8080/",
          "height": 551
        },
        "id": "gMRhoZQNL6Ej",
        "outputId": "5edc0068-3ec7-4f22-cfa3-fec6aa1620b3"
      },
      "execution_count": 13,
      "outputs": [
        {
          "output_type": "execute_result",
          "data": {
            "text/plain": [
              "     Periodo:  Total  Homens  Mulheres  rolling_mean\n",
              "0  2004-01-01   11.5    11.7      11.2          11.5\n",
              "1  2005-01-01   11.1    11.4      10.9          11.1\n",
              "2  2006-01-01   10.5    10.8      10.2          10.5\n",
              "3  2007-01-01   10.1    10.4       9.9          10.1\n",
              "4  2008-01-01   10.0    10.2       9.8          10.0\n",
              "5  2009-01-01    9.8     9.9       9.6           9.8\n",
              "6  2010-01-01    9.6     9.8       9.1           9.6\n",
              "7  2011-01-01    8.6     8.8       8.4           8.6\n",
              "8  2012-01-01    8.7     9.0       8.4           8.7\n",
              "9  2013-01-01    8.5     8.8       8.2           8.5\n",
              "10 2014-01-01    8.3     8.6       7.9           8.3\n",
              "11 2015-01-01    8.0     8.3       7.7           8.0\n",
              "12 2016-01-01    7.2     7.4       7.0           7.2\n",
              "13 2017-01-01    6.9     7.1       6.8           6.9\n",
              "14 2018-01-01    6.8     7.0       6.6           6.8\n",
              "15 2019-01-01    6.6     6.9       6.3           6.6"
            ],
            "text/html": [
              "\n",
              "  <div id=\"df-182488ec-1309-4796-b95a-6460e49c6c6c\">\n",
              "    <div class=\"colab-df-container\">\n",
              "      <div>\n",
              "<style scoped>\n",
              "    .dataframe tbody tr th:only-of-type {\n",
              "        vertical-align: middle;\n",
              "    }\n",
              "\n",
              "    .dataframe tbody tr th {\n",
              "        vertical-align: top;\n",
              "    }\n",
              "\n",
              "    .dataframe thead th {\n",
              "        text-align: right;\n",
              "    }\n",
              "</style>\n",
              "<table border=\"1\" class=\"dataframe\">\n",
              "  <thead>\n",
              "    <tr style=\"text-align: right;\">\n",
              "      <th></th>\n",
              "      <th>Periodo:</th>\n",
              "      <th>Total</th>\n",
              "      <th>Homens</th>\n",
              "      <th>Mulheres</th>\n",
              "      <th>rolling_mean</th>\n",
              "    </tr>\n",
              "  </thead>\n",
              "  <tbody>\n",
              "    <tr>\n",
              "      <th>0</th>\n",
              "      <td>2004-01-01</td>\n",
              "      <td>11.5</td>\n",
              "      <td>11.7</td>\n",
              "      <td>11.2</td>\n",
              "      <td>11.5</td>\n",
              "    </tr>\n",
              "    <tr>\n",
              "      <th>1</th>\n",
              "      <td>2005-01-01</td>\n",
              "      <td>11.1</td>\n",
              "      <td>11.4</td>\n",
              "      <td>10.9</td>\n",
              "      <td>11.1</td>\n",
              "    </tr>\n",
              "    <tr>\n",
              "      <th>2</th>\n",
              "      <td>2006-01-01</td>\n",
              "      <td>10.5</td>\n",
              "      <td>10.8</td>\n",
              "      <td>10.2</td>\n",
              "      <td>10.5</td>\n",
              "    </tr>\n",
              "    <tr>\n",
              "      <th>3</th>\n",
              "      <td>2007-01-01</td>\n",
              "      <td>10.1</td>\n",
              "      <td>10.4</td>\n",
              "      <td>9.9</td>\n",
              "      <td>10.1</td>\n",
              "    </tr>\n",
              "    <tr>\n",
              "      <th>4</th>\n",
              "      <td>2008-01-01</td>\n",
              "      <td>10.0</td>\n",
              "      <td>10.2</td>\n",
              "      <td>9.8</td>\n",
              "      <td>10.0</td>\n",
              "    </tr>\n",
              "    <tr>\n",
              "      <th>5</th>\n",
              "      <td>2009-01-01</td>\n",
              "      <td>9.8</td>\n",
              "      <td>9.9</td>\n",
              "      <td>9.6</td>\n",
              "      <td>9.8</td>\n",
              "    </tr>\n",
              "    <tr>\n",
              "      <th>6</th>\n",
              "      <td>2010-01-01</td>\n",
              "      <td>9.6</td>\n",
              "      <td>9.8</td>\n",
              "      <td>9.1</td>\n",
              "      <td>9.6</td>\n",
              "    </tr>\n",
              "    <tr>\n",
              "      <th>7</th>\n",
              "      <td>2011-01-01</td>\n",
              "      <td>8.6</td>\n",
              "      <td>8.8</td>\n",
              "      <td>8.4</td>\n",
              "      <td>8.6</td>\n",
              "    </tr>\n",
              "    <tr>\n",
              "      <th>8</th>\n",
              "      <td>2012-01-01</td>\n",
              "      <td>8.7</td>\n",
              "      <td>9.0</td>\n",
              "      <td>8.4</td>\n",
              "      <td>8.7</td>\n",
              "    </tr>\n",
              "    <tr>\n",
              "      <th>9</th>\n",
              "      <td>2013-01-01</td>\n",
              "      <td>8.5</td>\n",
              "      <td>8.8</td>\n",
              "      <td>8.2</td>\n",
              "      <td>8.5</td>\n",
              "    </tr>\n",
              "    <tr>\n",
              "      <th>10</th>\n",
              "      <td>2014-01-01</td>\n",
              "      <td>8.3</td>\n",
              "      <td>8.6</td>\n",
              "      <td>7.9</td>\n",
              "      <td>8.3</td>\n",
              "    </tr>\n",
              "    <tr>\n",
              "      <th>11</th>\n",
              "      <td>2015-01-01</td>\n",
              "      <td>8.0</td>\n",
              "      <td>8.3</td>\n",
              "      <td>7.7</td>\n",
              "      <td>8.0</td>\n",
              "    </tr>\n",
              "    <tr>\n",
              "      <th>12</th>\n",
              "      <td>2016-01-01</td>\n",
              "      <td>7.2</td>\n",
              "      <td>7.4</td>\n",
              "      <td>7.0</td>\n",
              "      <td>7.2</td>\n",
              "    </tr>\n",
              "    <tr>\n",
              "      <th>13</th>\n",
              "      <td>2017-01-01</td>\n",
              "      <td>6.9</td>\n",
              "      <td>7.1</td>\n",
              "      <td>6.8</td>\n",
              "      <td>6.9</td>\n",
              "    </tr>\n",
              "    <tr>\n",
              "      <th>14</th>\n",
              "      <td>2018-01-01</td>\n",
              "      <td>6.8</td>\n",
              "      <td>7.0</td>\n",
              "      <td>6.6</td>\n",
              "      <td>6.8</td>\n",
              "    </tr>\n",
              "    <tr>\n",
              "      <th>15</th>\n",
              "      <td>2019-01-01</td>\n",
              "      <td>6.6</td>\n",
              "      <td>6.9</td>\n",
              "      <td>6.3</td>\n",
              "      <td>6.6</td>\n",
              "    </tr>\n",
              "  </tbody>\n",
              "</table>\n",
              "</div>\n",
              "      <button class=\"colab-df-convert\" onclick=\"convertToInteractive('df-182488ec-1309-4796-b95a-6460e49c6c6c')\"\n",
              "              title=\"Convert this dataframe to an interactive table.\"\n",
              "              style=\"display:none;\">\n",
              "        \n",
              "  <svg xmlns=\"http://www.w3.org/2000/svg\" height=\"24px\"viewBox=\"0 0 24 24\"\n",
              "       width=\"24px\">\n",
              "    <path d=\"M0 0h24v24H0V0z\" fill=\"none\"/>\n",
              "    <path d=\"M18.56 5.44l.94 2.06.94-2.06 2.06-.94-2.06-.94-.94-2.06-.94 2.06-2.06.94zm-11 1L8.5 8.5l.94-2.06 2.06-.94-2.06-.94L8.5 2.5l-.94 2.06-2.06.94zm10 10l.94 2.06.94-2.06 2.06-.94-2.06-.94-.94-2.06-.94 2.06-2.06.94z\"/><path d=\"M17.41 7.96l-1.37-1.37c-.4-.4-.92-.59-1.43-.59-.52 0-1.04.2-1.43.59L10.3 9.45l-7.72 7.72c-.78.78-.78 2.05 0 2.83L4 21.41c.39.39.9.59 1.41.59.51 0 1.02-.2 1.41-.59l7.78-7.78 2.81-2.81c.8-.78.8-2.07 0-2.86zM5.41 20L4 18.59l7.72-7.72 1.47 1.35L5.41 20z\"/>\n",
              "  </svg>\n",
              "      </button>\n",
              "      \n",
              "  <style>\n",
              "    .colab-df-container {\n",
              "      display:flex;\n",
              "      flex-wrap:wrap;\n",
              "      gap: 12px;\n",
              "    }\n",
              "\n",
              "    .colab-df-convert {\n",
              "      background-color: #E8F0FE;\n",
              "      border: none;\n",
              "      border-radius: 50%;\n",
              "      cursor: pointer;\n",
              "      display: none;\n",
              "      fill: #1967D2;\n",
              "      height: 32px;\n",
              "      padding: 0 0 0 0;\n",
              "      width: 32px;\n",
              "    }\n",
              "\n",
              "    .colab-df-convert:hover {\n",
              "      background-color: #E2EBFA;\n",
              "      box-shadow: 0px 1px 2px rgba(60, 64, 67, 0.3), 0px 1px 3px 1px rgba(60, 64, 67, 0.15);\n",
              "      fill: #174EA6;\n",
              "    }\n",
              "\n",
              "    [theme=dark] .colab-df-convert {\n",
              "      background-color: #3B4455;\n",
              "      fill: #D2E3FC;\n",
              "    }\n",
              "\n",
              "    [theme=dark] .colab-df-convert:hover {\n",
              "      background-color: #434B5C;\n",
              "      box-shadow: 0px 1px 3px 1px rgba(0, 0, 0, 0.15);\n",
              "      filter: drop-shadow(0px 1px 2px rgba(0, 0, 0, 0.3));\n",
              "      fill: #FFFFFF;\n",
              "    }\n",
              "  </style>\n",
              "\n",
              "      <script>\n",
              "        const buttonEl =\n",
              "          document.querySelector('#df-182488ec-1309-4796-b95a-6460e49c6c6c button.colab-df-convert');\n",
              "        buttonEl.style.display =\n",
              "          google.colab.kernel.accessAllowed ? 'block' : 'none';\n",
              "\n",
              "        async function convertToInteractive(key) {\n",
              "          const element = document.querySelector('#df-182488ec-1309-4796-b95a-6460e49c6c6c');\n",
              "          const dataTable =\n",
              "            await google.colab.kernel.invokeFunction('convertToInteractive',\n",
              "                                                     [key], {});\n",
              "          if (!dataTable) return;\n",
              "\n",
              "          const docLinkHtml = 'Like what you see? Visit the ' +\n",
              "            '<a target=\"_blank\" href=https://colab.research.google.com/notebooks/data_table.ipynb>data table notebook</a>'\n",
              "            + ' to learn more about interactive tables.';\n",
              "          element.innerHTML = '';\n",
              "          dataTable['output_type'] = 'display_data';\n",
              "          await google.colab.output.renderOutput(dataTable, element);\n",
              "          const docLink = document.createElement('div');\n",
              "          docLink.innerHTML = docLinkHtml;\n",
              "          element.appendChild(docLink);\n",
              "        }\n",
              "      </script>\n",
              "    </div>\n",
              "  </div>\n",
              "  "
            ]
          },
          "metadata": {},
          "execution_count": 13
        }
      ]
    },
    {
      "cell_type": "code",
      "execution_count": 14,
      "metadata": {
        "id": "-7XbtZJ3b7c1"
      },
      "outputs": [],
      "source": [
        "#ahem1 = ahem.copy()\n",
        "\n",
        "ahem['Periodo:'] = pd.to_datetime(ahem['Periodo:'], format=\"%Y\")"
      ]
    },
    {
      "cell_type": "code",
      "execution_count": 20,
      "metadata": {
        "id": "kOd1ObjGb7c2"
      },
      "outputs": [],
      "source": [
        "### Adding the FiveThirtyEight style\n",
        "import matplotlib.style as style\n",
        "style.use('fivethirtyeight')"
      ]
    },
    {
      "cell_type": "markdown",
      "metadata": {
        "id": "p2rosta0b7c3"
      },
      "source": [
        "### The Four Brazil Presidencies Example"
      ]
    },
    {
      "cell_type": "code",
      "execution_count": 21,
      "metadata": {
        "id": "2HRf_Kfnb7c4"
      },
      "outputs": [],
      "source": [
        "Lula_Dilma_Temer_Bolsonaro = ahem.copy(\n",
        "                   )[(ahem['Periodo:'].dt.year >= 2004) & (ahem['Periodo:'].dt.year < 2022)]\n",
        "Lula = Lula_Dilma_Temer_Bolsonaro.copy(\n",
        "       )[Lula_Dilma_Temer_Bolsonaro['Periodo:'].dt.year < 2011]\n",
        "Dilma = Lula_Dilma_Temer_Bolsonaro.copy(\n",
        "       )[(Lula_Dilma_Temer_Bolsonaro['Periodo:'].dt.year >= 2010) & (Lula_Dilma_Temer_Bolsonaro['Periodo:'].dt.year < 2017)]\n",
        "Temer = Lula_Dilma_Temer_Bolsonaro.copy(\n",
        "       )[(Lula_Dilma_Temer_Bolsonaro['Periodo:'].dt.year >= 2016) & (Lula_Dilma_Temer_Bolsonaro['Periodo:'].dt.year < 2019)]\n",
        "Bolsonaro = Lula_Dilma_Temer_Bolsonaro.copy(\n",
        "       )[(Lula_Dilma_Temer_Bolsonaro['Periodo:'].dt.year >= 2018) & (Lula_Dilma_Temer_Bolsonaro['Periodo:'].dt.year < 2022)]"
      ]
    },
    {
      "cell_type": "code",
      "execution_count": 22,
      "metadata": {
        "id": "pNi4SDkDb7c4",
        "outputId": "9b1b80be-7642-472f-c651-d43cc795972a",
        "colab": {
          "base_uri": "https://localhost:8080/",
          "height": 495
        }
      },
      "outputs": [
        {
          "output_type": "execute_result",
          "data": {
            "text/plain": [
              "<matplotlib.legend.Legend at 0x7f24b8278750>"
            ]
          },
          "metadata": {},
          "execution_count": 22
        },
        {
          "output_type": "display_data",
          "data": {
            "text/plain": [
              "<Figure size 1152x504 with 1 Axes>"
            ],
            "image/png": "[encoded data removed]"
          },
          "metadata": {}
        }
      ],
      "source": [
        "### Adding the FiveThirtyEight style\n",
        "style.use('fivethirtyeight')\n",
        "\n",
        "plt.figure(figsize=(16, 7))\n",
        "\n",
        "plt.plot(Lula['Periodo:'], Lula.rolling_mean,\n",
        "         label=\"Lula\", color='#000000')\n",
        "plt.plot(Dilma['Periodo:'], Dilma.rolling_mean,\n",
        "         label=\"Dilma\", color='#8B0000')\n",
        "plt.plot(Temer['Periodo:'], Temer.rolling_mean,\n",
        "         label=\"Temer\", color='#0000CD')\n",
        "plt.plot(Bolsonaro['Periodo:'], Bolsonaro.rolling_mean,\n",
        "         label=\"Bolsonaro\", color='#008000')\n",
        "\n",
        "plt.title('Taxa de analfabetismo em pessoas com mais de 15 anos no Brasil entre os anos de 2004 e 2019')\n",
        "plt.legend()"
      ]
    },
    {
      "cell_type": "code",
      "source": [
        "ahem['rolling_mean'] = ahem['Homens'].rolling(1).mean()\n",
        "ahem\n",
        "\n",
        "style.use('fivethirtyeight')\n",
        "\n",
        "Lula_Dilma_Temer_Bolsonaro = ahem.copy(\n",
        "                   )[(ahem['Periodo:'].dt.year >= 2004) & (ahem['Periodo:'].dt.year < 2022)]\n",
        "Lula = Lula_Dilma_Temer_Bolsonaro.copy(\n",
        "       )[Lula_Dilma_Temer_Bolsonaro['Periodo:'].dt.year < 2011]\n",
        "Dilma = Lula_Dilma_Temer_Bolsonaro.copy(\n",
        "       )[(Lula_Dilma_Temer_Bolsonaro['Periodo:'].dt.year >= 2010) & (Lula_Dilma_Temer_Bolsonaro['Periodo:'].dt.year < 2017)]\n",
        "Temer = Lula_Dilma_Temer_Bolsonaro.copy(\n",
        "       )[(Lula_Dilma_Temer_Bolsonaro['Periodo:'].dt.year >= 2016) & (Lula_Dilma_Temer_Bolsonaro['Periodo:'].dt.year < 2019)]\n",
        "Bolsonaro = Lula_Dilma_Temer_Bolsonaro.copy(\n",
        "       )[(Lula_Dilma_Temer_Bolsonaro['Periodo:'].dt.year >= 2018) & (Lula_Dilma_Temer_Bolsonaro['Periodo:'].dt.year < 2022)]\n",
        "\n",
        "plt.figure(figsize=(16, 7))\n",
        "\n",
        "plt.plot(Lula['Periodo:'], Lula.rolling_mean,\n",
        "         label=\"Lula\", color='#000000')\n",
        "plt.plot(Dilma['Periodo:'], Dilma.rolling_mean,\n",
        "         label=\"Dilma\", color='#8B0000')\n",
        "plt.plot(Temer['Periodo:'], Temer.rolling_mean,\n",
        "         label=\"Temer\", color='#0000CD')\n",
        "plt.plot(Bolsonaro['Periodo:'], Bolsonaro.rolling_mean,\n",
        "         label=\"Bolsonaro\", color='#008000')\n",
        "\n",
        "plt.title('Taxa de analfabetismo em homens com mais de 15 anos no Brasil entre os anos de 2004 e 2019')\n",
        "plt.legend()"
      ],
      "metadata": {
        "colab": {
          "base_uri": "https://localhost:8080/",
          "height": 495
        },
        "id": "2aU2moYBkL-7",
        "outputId": "e7025722-1ec4-4707-a55b-d78790aa137a"
      },
      "execution_count": 23,
      "outputs": [
        {
          "output_type": "execute_result",
          "data": {
            "text/plain": [
              "<matplotlib.legend.Legend at 0x7f24b8477d10>"
            ]
          },
          "metadata": {},
          "execution_count": 23
        },
        {
          "output_type": "display_data",
          "data": {
            "text/plain": [
              "<Figure size 1152x504 with 1 Axes>"
            ],
            "image/png": "[encoded data removed]"
          },
          "metadata": {}
        }
      ]
    },
    {
      "cell_type": "code",
      "execution_count": 24,
      "metadata": {
        "id": "h84x1Wswb7c5",
        "colab": {
          "base_uri": "https://localhost:8080/",
          "height": 495
        },
        "outputId": "c072e2c6-cedf-4d30-a829-5ee40b013c3e"
      },
      "outputs": [
        {
          "output_type": "execute_result",
          "data": {
            "text/plain": [
              "<matplotlib.legend.Legend at 0x7f24bacaabd0>"
            ]
          },
          "metadata": {},
          "execution_count": 24
        },
        {
          "output_type": "display_data",
          "data": {
            "text/plain": [
              "<Figure size 1152x504 with 1 Axes>"
            ],
            "image/png": "[encoded data removed]"
          },
          "metadata": {}
        }
      ],
      "source": [
        "ahem['rolling_mean'] = ahem['Mulheres'].rolling(1).mean()\n",
        "ahem\n",
        "### Adding the FiveThirtyEight style\n",
        "style.use('fivethirtyeight')\n",
        "\n",
        "Lula_Dilma_Temer_Bolsonaro = ahem.copy(\n",
        "                   )[(ahem['Periodo:'].dt.year >= 2004) & (ahem['Periodo:'].dt.year < 2022)]\n",
        "Lula = Lula_Dilma_Temer_Bolsonaro.copy(\n",
        "       )[Lula_Dilma_Temer_Bolsonaro['Periodo:'].dt.year < 2011]\n",
        "Dilma = Lula_Dilma_Temer_Bolsonaro.copy(\n",
        "       )[(Lula_Dilma_Temer_Bolsonaro['Periodo:'].dt.year >= 2010) & (Lula_Dilma_Temer_Bolsonaro['Periodo:'].dt.year < 2017)]\n",
        "Temer = Lula_Dilma_Temer_Bolsonaro.copy(\n",
        "       )[(Lula_Dilma_Temer_Bolsonaro['Periodo:'].dt.year >= 2016) & (Lula_Dilma_Temer_Bolsonaro['Periodo:'].dt.year < 2019)]\n",
        "Bolsonaro = Lula_Dilma_Temer_Bolsonaro.copy(\n",
        "       )[(Lula_Dilma_Temer_Bolsonaro['Periodo:'].dt.year >= 2018) & (Lula_Dilma_Temer_Bolsonaro['Periodo:'].dt.year < 2022)]\n",
        "\n",
        "plt.figure(figsize=(16, 7))\n",
        "\n",
        "plt.plot(Lula['Periodo:'], Lula.rolling_mean,\n",
        "         label=\"Lula\", color='#000000')\n",
        "plt.plot(Dilma['Periodo:'], Dilma.rolling_mean,\n",
        "         label=\"Dilma\", color='#8B0000')\n",
        "plt.plot(Temer['Periodo:'], Temer.rolling_mean,\n",
        "         label=\"Temer\", color='#0000CD')\n",
        "plt.plot(Bolsonaro['Periodo:'], Bolsonaro.rolling_mean,\n",
        "         label=\"Bolsonaro\", color='#008000')\n",
        "\n",
        "plt.title('Taxa de analfabetismo em mulheres com mais de 15 anos no Brasil entre os anos de 2004 e 2019')\n",
        "plt.legend()"
      ]
    }
  ],
  "metadata": {
    "kernelspec": {
      "display_name": "Python 3",
      "language": "python",
      "name": "python3"
    },
    "language_info": {
      "codemirror_mode": {
        "name": "ipython",
        "version": 3
      },
      "file_extension": ".py",
      "mimetype": "text/x-python",
      "name": "python",
      "nbconvert_exporter": "python",
      "pygments_lexer": "ipython3",
      "version": "3.8.2"
    },
    "colab": {
      "name": "Miission529Solutions.ipynb",
      "provenance": [],
      "collapsed_sections": []
    }
  },
  "nbformat": 4,
  "nbformat_minor": 0
}